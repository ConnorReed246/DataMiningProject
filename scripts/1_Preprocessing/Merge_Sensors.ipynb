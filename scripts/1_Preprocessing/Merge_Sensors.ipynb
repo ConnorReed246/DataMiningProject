{
 "cells": [
  {
   "cell_type": "markdown",
   "metadata": {},
   "source": [
    "# Merge sensor data with MET lables"
   ]
  },
  {
   "cell_type": "code",
   "execution_count": 1,
   "metadata": {},
   "outputs": [],
   "source": [
    "import pandas as pd\n",
    "import matplotlib.pyplot as plt\n",
    "import os\n",
    "import numpy as np\n",
    "\n",
    "\n",
    "os.chdir(\"/home/cernerrood246/University/DataMining\")\n",
    "pd.set_option(\"display.precision\", 2)"
   ]
  },
  {
   "cell_type": "code",
   "execution_count": 4,
   "metadata": {},
   "outputs": [],
   "source": [
    "participants_list = ['P1', 'P2', 'P3', 'P4', 'P5', 'P6', 'P7', 'P8', 'P9', 'P10', 'P11', 'P12', 'P13', 'P14', 'P15', 'P16', 'P17']"
   ]
  },
  {
   "cell_type": "markdown",
   "metadata": {},
   "source": [
    "## Load MET"
   ]
  },
  {
   "cell_type": "code",
   "execution_count": 17,
   "metadata": {},
   "outputs": [
    {
     "data": {
      "text/html": [
       "<div>\n",
       "<style scoped>\n",
       "    .dataframe tbody tr th:only-of-type {\n",
       "        vertical-align: middle;\n",
       "    }\n",
       "\n",
       "    .dataframe tbody tr th {\n",
       "        vertical-align: top;\n",
       "    }\n",
       "\n",
       "    .dataframe thead th {\n",
       "        text-align: right;\n",
       "    }\n",
       "</style>\n",
       "<table border=\"1\" class=\"dataframe\">\n",
       "  <thead>\n",
       "    <tr style=\"text-align: right;\">\n",
       "      <th></th>\n",
       "      <th>Time[s]</th>\n",
       "      <th>Delta_Time</th>\n",
       "      <th>MET</th>\n",
       "    </tr>\n",
       "    <tr>\n",
       "      <th>Time</th>\n",
       "      <th></th>\n",
       "      <th></th>\n",
       "      <th></th>\n",
       "    </tr>\n",
       "  </thead>\n",
       "  <tbody>\n",
       "    <tr>\n",
       "      <th>2021-12-03 16:58:51</th>\n",
       "      <td>1.0</td>\n",
       "      <td>0 days 00:00:00</td>\n",
       "      <td>1.31</td>\n",
       "    </tr>\n",
       "    <tr>\n",
       "      <th>2021-12-03 16:58:52</th>\n",
       "      <td>2.0</td>\n",
       "      <td>0 days 00:00:01</td>\n",
       "      <td>1.31</td>\n",
       "    </tr>\n",
       "    <tr>\n",
       "      <th>2021-12-03 16:58:53</th>\n",
       "      <td>3.0</td>\n",
       "      <td>0 days 00:00:02</td>\n",
       "      <td>1.52</td>\n",
       "    </tr>\n",
       "    <tr>\n",
       "      <th>2021-12-03 16:58:54</th>\n",
       "      <td>4.0</td>\n",
       "      <td>0 days 00:00:03</td>\n",
       "      <td>1.63</td>\n",
       "    </tr>\n",
       "    <tr>\n",
       "      <th>2021-12-03 16:58:55</th>\n",
       "      <td>5.0</td>\n",
       "      <td>0 days 00:00:04</td>\n",
       "      <td>1.56</td>\n",
       "    </tr>\n",
       "    <tr>\n",
       "      <th>...</th>\n",
       "      <td>...</td>\n",
       "      <td>...</td>\n",
       "      <td>...</td>\n",
       "    </tr>\n",
       "    <tr>\n",
       "      <th>2021-12-03 17:28:48</th>\n",
       "      <td>1798.0</td>\n",
       "      <td>0 days 00:29:57</td>\n",
       "      <td>5.32</td>\n",
       "    </tr>\n",
       "    <tr>\n",
       "      <th>2021-12-03 17:28:49</th>\n",
       "      <td>1799.0</td>\n",
       "      <td>0 days 00:29:58</td>\n",
       "      <td>5.11</td>\n",
       "    </tr>\n",
       "    <tr>\n",
       "      <th>2021-12-03 17:28:50</th>\n",
       "      <td>1800.0</td>\n",
       "      <td>0 days 00:29:59</td>\n",
       "      <td>4.46</td>\n",
       "    </tr>\n",
       "    <tr>\n",
       "      <th>2021-12-03 17:28:51</th>\n",
       "      <td>1801.0</td>\n",
       "      <td>0 days 00:30:00</td>\n",
       "      <td>4.12</td>\n",
       "    </tr>\n",
       "    <tr>\n",
       "      <th>2021-12-03 17:28:52</th>\n",
       "      <td>1802.0</td>\n",
       "      <td>0 days 00:30:01</td>\n",
       "      <td>4.43</td>\n",
       "    </tr>\n",
       "  </tbody>\n",
       "</table>\n",
       "<p>1802 rows × 3 columns</p>\n",
       "</div>"
      ],
      "text/plain": [
       "                     Time[s]      Delta_Time   MET\n",
       "Time                                              \n",
       "2021-12-03 16:58:51      1.0 0 days 00:00:00  1.31\n",
       "2021-12-03 16:58:52      2.0 0 days 00:00:01  1.31\n",
       "2021-12-03 16:58:53      3.0 0 days 00:00:02  1.52\n",
       "2021-12-03 16:58:54      4.0 0 days 00:00:03  1.63\n",
       "2021-12-03 16:58:55      5.0 0 days 00:00:04  1.56\n",
       "...                      ...             ...   ...\n",
       "2021-12-03 17:28:48   1798.0 0 days 00:29:57  5.32\n",
       "2021-12-03 17:28:49   1799.0 0 days 00:29:58  5.11\n",
       "2021-12-03 17:28:50   1800.0 0 days 00:29:59  4.46\n",
       "2021-12-03 17:28:51   1801.0 0 days 00:30:00  4.12\n",
       "2021-12-03 17:28:52   1802.0 0 days 00:30:01  4.43\n",
       "\n",
       "[1802 rows x 3 columns]"
      ]
     },
     "execution_count": 17,
     "metadata": {},
     "output_type": "execute_result"
    }
   ],
   "source": [
    "MET_all_list = [pd.read_pickle(f\"preprocessed_dataset/{participant}/MET.pkl\") for participant in participants_list]\n",
    "MET_all_list[0]\n"
   ]
  },
  {
   "cell_type": "code",
   "execution_count": null,
   "metadata": {},
   "outputs": [],
   "source": []
  }
 ],
 "metadata": {
  "kernelspec": {
   "display_name": "DM",
   "language": "python",
   "name": "python3"
  },
  "language_info": {
   "codemirror_mode": {
    "name": "ipython",
    "version": 3
   },
   "file_extension": ".py",
   "mimetype": "text/x-python",
   "name": "python",
   "nbconvert_exporter": "python",
   "pygments_lexer": "ipython3",
   "version": "3.11.7"
  }
 },
 "nbformat": 4,
 "nbformat_minor": 2
}
