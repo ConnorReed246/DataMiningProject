{
 "cells": [
  {
   "cell_type": "markdown",
   "metadata": {},
   "source": [
    "# Merge sensor data with MET lables"
   ]
  },
  {
   "cell_type": "code",
   "execution_count": null,
   "metadata": {},
   "outputs": [],
   "source": [
    "import pandas as pd\n",
    "import matplotlib.pyplot as plt\n",
    "import os\n",
    "import numpy as np\n",
    "\n",
    "\n",
    "os.chdir(\"/home/cernerrood246/University/DataMining\")\n",
    "pd.set_option(\"display.precision\", 2)"
   ]
  },
  {
   "cell_type": "code",
   "execution_count": null,
   "metadata": {},
   "outputs": [],
   "source": [
    "participants_list = ['P1', 'P2', 'P3', 'P4', 'P5', 'P6', 'P7', 'P8', 'P9', 'P10', 'P11', 'P12', 'P13', 'P14', 'P15', 'P16', 'P17']"
   ]
  },
  {
   "cell_type": "markdown",
   "metadata": {},
   "source": [
    "## Load Datasets"
   ]
  },
  {
   "cell_type": "markdown",
   "metadata": {},
   "source": [
    "### Load MET"
   ]
  },
  {
   "cell_type": "code",
   "execution_count": null,
   "metadata": {},
   "outputs": [],
   "source": [
    "MET_all_list = [pd.read_pickle(f\"preprocessed_dataset/{participant}/MET.pkl\") for participant in participants_list]\n",
    "MET_all_list[1]\n"
   ]
  },
  {
   "cell_type": "markdown",
   "metadata": {},
   "source": [
    "### Load Fitbit"
   ]
  },
  {
   "cell_type": "code",
   "execution_count": null,
   "metadata": {},
   "outputs": [],
   "source": [
    "fitbit_path = \"Fitbit_data/average_data_5S_new/average_data_5S_new\"\n",
    "fitbit_df_list = []\n",
    "for df in os.listdir(fitbit_path):\n",
    "    temp_df = pd.read_csv(f\"{fitbit_path}/{df}\")\n",
    "    #convert index to datetime\n",
    "    temp_df = temp_df.rename(columns={\"Unnamed: 0\": \"Time\"})\n",
    "    temp_df[\"Time\"] = pd.to_datetime(temp_df[\"Time\"])\n",
    "\n",
    "    temp_df = temp_df.set_index(\"Time\")\n",
    "    #upsample to 1 second without filling\n",
    "    temp_df = temp_df.resample(\"1S\").asfreq().copy()\n",
    "\n",
    "    #fill next 4 values with the previous value\n",
    "    temp_df = temp_df.ffill(limit=4)\n",
    "    temp_df = temp_df[temp_df['value__bpm'].notna()]\n",
    "\n",
    "    \n",
    "    fitbit_df_list.append(temp_df)\n",
    "    \n",
    "fitbit_df_all = pd.concat(fitbit_df_list, axis=0)\n",
    "fitbit_df_all \n"
   ]
  },
  {
   "cell_type": "markdown",
   "metadata": {},
   "source": [
    "### Load E4"
   ]
  },
  {
   "cell_type": "code",
   "execution_count": null,
   "metadata": {},
   "outputs": [],
   "source": [
    "E4_all_list = [pd.read_pickle(f\"merged_dataset/{participant}/E4.pkl\") for participant in participants_list]\n"
   ]
  },
  {
   "cell_type": "code",
   "execution_count": null,
   "metadata": {},
   "outputs": [],
   "source": [
    "E4_all_list[1][\"Delta_Time\"]"
   ]
  },
  {
   "cell_type": "markdown",
   "metadata": {},
   "source": [
    "## Merge Datasets"
   ]
  },
  {
   "cell_type": "code",
   "execution_count": null,
   "metadata": {},
   "outputs": [],
   "source": [
    "merged_df_list = []\n",
    "for participant_number, met_df in enumerate(MET_all_list):\n",
    "    #left join on met_df\n",
    "    temp_df = met_df.merge(fitbit_df_all, how=\"left\", left_index=True, right_index=True)\n",
    "    temp_df = temp_df.merge(E4_all_list[participant_number].drop(columns = {\"Delta_Time\", \"MET\"}), how=\"left\", left_on = \"Time[s]\", right_on = \"Time[s]\")\n",
    "    merged_df_list.append(temp_df)\n",
    "\n",
    "merged_df_list[0]"
   ]
  },
  {
   "cell_type": "code",
   "execution_count": 16,
   "metadata": {},
   "outputs": [],
   "source": [
    "for i, participant_df in enumerate(merged_df_list):\n",
    "    # os.makedirs(f\"merged_dataset/P{i+1}\", exist_ok=True)\n",
    "    participant_df[['Time[s]','Delta_Time', 'MET']].to_pickle(f\"merged_dataset/P{i+1}/ALL.pkl\")\n",
    "    #os.remove(f\"preprocessed_dataset/P{i+1}/MET.csv\")"
   ]
  },
  {
   "cell_type": "code",
   "execution_count": null,
   "metadata": {},
   "outputs": [],
   "source": [
    "merged_df_list[1].hist(column = \"Time[s]\", bins = 100)\n",
    "merged_df_list[1]"
   ]
  },
  {
   "cell_type": "code",
   "execution_count": null,
   "metadata": {},
   "outputs": [],
   "source": [
    "test = MET_all_list[1].merge(E4_all_list[1].drop(columns = { \"MET\"}), how=\"left\", left_on = \"Time[s]\", right_on = \"Time[s]\")\n",
    "test"
   ]
  },
  {
   "cell_type": "code",
   "execution_count": null,
   "metadata": {},
   "outputs": [],
   "source": [
    "for df in merged_df_list:\n",
    "    fig, ax1 = plt.subplots(figsize=(20, 10))\n",
    "    ax2 = ax1.twinx()\n",
    "    ax3 = ax1.twinx()\n",
    "\n",
    "    # plot MET on the first y-axis\n",
    "    ax1.plot(df.index, df[\"MET\"], 'g-')\n",
    "    ax1.set_ylabel('MET', color='g')\n",
    "\n",
    "    # plot value_bpm on the second y-axis\n",
    "    ax2.plot(df.index, df[\"value__bpm\"], 'b-')\n",
    "    ax2.set_ylabel('BPM', color='b')\n",
    "\n",
    "    # plot Magnitude on the third y-axis\n",
    "    ax3.plot(df.index, df[\"Magnitude\"], 'r-')\n",
    "    ax3.set_ylabel('Magnitude', color='r')\n",
    "\n",
    "    # adjust the position of the third y-axis\n",
    "    ax3.spines['right'].set_position(('outward', 60))\n",
    "    ax3.set_ylim(0, df[\"Magnitude\"].max() * 1.1)\n",
    "    ax3.set_ylabel('Magnitude', color='r')\n",
    "\n",
    "    ax1.set_xlabel('Time')\n",
    "\n",
    "    plt.show()"
   ]
  },
  {
   "cell_type": "code",
   "execution_count": null,
   "metadata": {},
   "outputs": [],
   "source": []
  }
 ],
 "metadata": {
  "kernelspec": {
   "display_name": "DM",
   "language": "python",
   "name": "python3"
  },
  "language_info": {
   "codemirror_mode": {
    "name": "ipython",
    "version": 3
   },
   "file_extension": ".py",
   "mimetype": "text/x-python",
   "name": "python",
   "nbconvert_exporter": "python",
   "pygments_lexer": "ipython3",
   "version": "3.11.7"
  }
 },
 "nbformat": 4,
 "nbformat_minor": 2
}
