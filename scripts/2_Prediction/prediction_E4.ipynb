{
 "cells": [
  {
   "cell_type": "markdown",
   "metadata": {},
   "source": [
    "# Feature engineering and model training for E4-MET"
   ]
  },
  {
   "cell_type": "code",
   "execution_count": 85,
   "metadata": {},
   "outputs": [],
   "source": [
    "\n",
    "import pandas as pd\n",
    "import os \n",
    "\n",
    "from sklearn.svm import SVR\n",
    "from xgboost import XGBRegressor\n",
    "from sklearn.metrics import mean_squared_error\n",
    "from sklearn.model_selection import train_test_split\n",
    "from sklearn.preprocessing import MinMaxScaler\n",
    "from sklearn.linear_model import LinearRegression\n",
    "\n",
    "os.chdir(\"E:\\Projects\\Oulu\\Data Mining Project\\DataMiningProject\")\n",
    "pd.set_option(\"display.precision\", 2)"
   ]
  },
  {
   "cell_type": "code",
   "execution_count": 86,
   "metadata": {},
   "outputs": [
    {
     "data": {
      "text/html": [
       "<div>\n",
       "<style scoped>\n",
       "    .dataframe tbody tr th:only-of-type {\n",
       "        vertical-align: middle;\n",
       "    }\n",
       "\n",
       "    .dataframe tbody tr th {\n",
       "        vertical-align: top;\n",
       "    }\n",
       "\n",
       "    .dataframe thead th {\n",
       "        text-align: right;\n",
       "    }\n",
       "</style>\n",
       "<table border=\"1\" class=\"dataframe\">\n",
       "  <thead>\n",
       "    <tr style=\"text-align: right;\">\n",
       "      <th></th>\n",
       "      <th>Time[s]</th>\n",
       "      <th>Delta_Time</th>\n",
       "      <th>MET</th>\n",
       "      <th>X</th>\n",
       "      <th>Y</th>\n",
       "      <th>Z</th>\n",
       "      <th>Magnitude</th>\n",
       "    </tr>\n",
       "  </thead>\n",
       "  <tbody>\n",
       "    <tr>\n",
       "      <th>0</th>\n",
       "      <td>1.0</td>\n",
       "      <td>0 days 00:00:00</td>\n",
       "      <td>1.31</td>\n",
       "      <td>30.0</td>\n",
       "      <td>0.0</td>\n",
       "      <td>55.67</td>\n",
       "      <td>63.24</td>\n",
       "    </tr>\n",
       "    <tr>\n",
       "      <th>1</th>\n",
       "      <td>2.0</td>\n",
       "      <td>0 days 00:00:01</td>\n",
       "      <td>1.31</td>\n",
       "      <td>30.0</td>\n",
       "      <td>0.0</td>\n",
       "      <td>55.75</td>\n",
       "      <td>63.31</td>\n",
       "    </tr>\n",
       "    <tr>\n",
       "      <th>2</th>\n",
       "      <td>3.0</td>\n",
       "      <td>0 days 00:00:02</td>\n",
       "      <td>1.52</td>\n",
       "      <td>30.0</td>\n",
       "      <td>0.0</td>\n",
       "      <td>55.80</td>\n",
       "      <td>63.35</td>\n",
       "    </tr>\n",
       "    <tr>\n",
       "      <th>3</th>\n",
       "      <td>4.0</td>\n",
       "      <td>0 days 00:00:03</td>\n",
       "      <td>1.63</td>\n",
       "      <td>30.0</td>\n",
       "      <td>0.0</td>\n",
       "      <td>55.60</td>\n",
       "      <td>63.18</td>\n",
       "    </tr>\n",
       "    <tr>\n",
       "      <th>4</th>\n",
       "      <td>5.0</td>\n",
       "      <td>0 days 00:00:04</td>\n",
       "      <td>1.56</td>\n",
       "      <td>30.0</td>\n",
       "      <td>0.0</td>\n",
       "      <td>55.80</td>\n",
       "      <td>63.35</td>\n",
       "    </tr>\n",
       "    <tr>\n",
       "      <th>...</th>\n",
       "      <td>...</td>\n",
       "      <td>...</td>\n",
       "      <td>...</td>\n",
       "      <td>...</td>\n",
       "      <td>...</td>\n",
       "      <td>...</td>\n",
       "      <td>...</td>\n",
       "    </tr>\n",
       "    <tr>\n",
       "      <th>1797</th>\n",
       "      <td>1798.0</td>\n",
       "      <td>0 days 00:29:57</td>\n",
       "      <td>5.32</td>\n",
       "      <td>20.2</td>\n",
       "      <td>-49.4</td>\n",
       "      <td>36.00</td>\n",
       "      <td>64.38</td>\n",
       "    </tr>\n",
       "    <tr>\n",
       "      <th>1798</th>\n",
       "      <td>1799.0</td>\n",
       "      <td>0 days 00:29:58</td>\n",
       "      <td>5.11</td>\n",
       "      <td>18.0</td>\n",
       "      <td>-50.2</td>\n",
       "      <td>33.80</td>\n",
       "      <td>63.14</td>\n",
       "    </tr>\n",
       "    <tr>\n",
       "      <th>1799</th>\n",
       "      <td>1800.0</td>\n",
       "      <td>0 days 00:29:59</td>\n",
       "      <td>4.46</td>\n",
       "      <td>17.8</td>\n",
       "      <td>-50.2</td>\n",
       "      <td>34.20</td>\n",
       "      <td>63.30</td>\n",
       "    </tr>\n",
       "    <tr>\n",
       "      <th>1800</th>\n",
       "      <td>1801.0</td>\n",
       "      <td>0 days 00:30:00</td>\n",
       "      <td>4.12</td>\n",
       "      <td>15.2</td>\n",
       "      <td>-49.4</td>\n",
       "      <td>36.20</td>\n",
       "      <td>63.10</td>\n",
       "    </tr>\n",
       "    <tr>\n",
       "      <th>1801</th>\n",
       "      <td>1802.0</td>\n",
       "      <td>0 days 00:30:01</td>\n",
       "      <td>4.43</td>\n",
       "      <td>12.8</td>\n",
       "      <td>-50.4</td>\n",
       "      <td>34.40</td>\n",
       "      <td>62.35</td>\n",
       "    </tr>\n",
       "  </tbody>\n",
       "</table>\n",
       "<p>1802 rows × 7 columns</p>\n",
       "</div>"
      ],
      "text/plain": [
       "      Time[s]      Delta_Time   MET     X     Y      Z  Magnitude\n",
       "0         1.0 0 days 00:00:00  1.31  30.0   0.0  55.67      63.24\n",
       "1         2.0 0 days 00:00:01  1.31  30.0   0.0  55.75      63.31\n",
       "2         3.0 0 days 00:00:02  1.52  30.0   0.0  55.80      63.35\n",
       "3         4.0 0 days 00:00:03  1.63  30.0   0.0  55.60      63.18\n",
       "4         5.0 0 days 00:00:04  1.56  30.0   0.0  55.80      63.35\n",
       "...       ...             ...   ...   ...   ...    ...        ...\n",
       "1797   1798.0 0 days 00:29:57  5.32  20.2 -49.4  36.00      64.38\n",
       "1798   1799.0 0 days 00:29:58  5.11  18.0 -50.2  33.80      63.14\n",
       "1799   1800.0 0 days 00:29:59  4.46  17.8 -50.2  34.20      63.30\n",
       "1800   1801.0 0 days 00:30:00  4.12  15.2 -49.4  36.20      63.10\n",
       "1801   1802.0 0 days 00:30:01  4.43  12.8 -50.4  34.40      62.35\n",
       "\n",
       "[1802 rows x 7 columns]"
      ]
     },
     "execution_count": 86,
     "metadata": {},
     "output_type": "execute_result"
    }
   ],
   "source": [
    "# Load the data from the pickle files\n",
    "participants_list = ['P1', 'P2', 'P3', 'P4', 'P5', 'P6', 'P7', 'P8', 'P9', 'P10', 'P11', 'P12', 'P13', 'P14', 'P15', 'P16', 'P17']\n",
    "merged_dataset = [pd.read_pickle(\"merged_dataset/{0}/E4.pkl\".format(participant)) for participant in participants_list]\n",
    "merged_dataset[0]"
   ]
  },
  {
   "cell_type": "markdown",
   "metadata": {},
   "source": [
    "## Options"
   ]
  },
  {
   "cell_type": "code",
   "execution_count": 87,
   "metadata": {},
   "outputs": [],
   "source": [
    "include_time_lagged_features = True\n",
    "activity_split = False"
   ]
  },
  {
   "cell_type": "markdown",
   "metadata": {},
   "source": [
    "## Feature engineering"
   ]
  },
  {
   "cell_type": "markdown",
   "metadata": {},
   "source": [
    "### Time lagged features"
   ]
  },
  {
   "cell_type": "code",
   "execution_count": 88,
   "metadata": {},
   "outputs": [],
   "source": [
    "# Time lagged feature generation for ACC data\n",
    "def time_lagged_features(data, time_lags):\n",
    "    for time_lag in time_lags:\n",
    "        data['X_lag_{}'.format(time_lag)] = data['X'].shift(time_lag)\n",
    "        data['Y_lag_{}'.format(time_lag)] = data['Y'].shift(time_lag)\n",
    "        data['Z_lag_{}'.format(time_lag)] = data['Z'].shift(time_lag)\n",
    "        # Backward fill the missing values\n",
    "        data['X_lag_{}'.format(time_lag)].fillna(method='bfill', inplace=True)\n",
    "        data['Y_lag_{}'.format(time_lag)].fillna(method='bfill', inplace=True)\n",
    "        data['Z_lag_{}'.format(time_lag)].fillna(method='bfill', inplace=True)\n",
    "    return data\n",
    "\n",
    "if include_time_lagged_features:\n",
    "    # Create time lagged features for all participants\n",
    "    time_lags = [1, 2, 3, 10, 15, 20]\n",
    "    for i in range(len(merged_dataset)):\n",
    "        merged_dataset[i] = time_lagged_features(merged_dataset[i], time_lags)\n",
    "        \n",
    "    merged_dataset[0]\n",
    "        "
   ]
  },
  {
   "cell_type": "markdown",
   "metadata": {},
   "source": [
    "## Activity splitting\n",
    "The different activities last 5 minutes each, and they are as follows:\n",
    "1. Resting (sitting)\n",
    "2. Resting (standing)\n",
    "3. Cycling (low intensity)\n",
    "4. Cycling (high intensity)\n",
    "5. Running (low intensity)\n",
    "6. Running (high intensity)"
   ]
  },
  {
   "cell_type": "code",
   "execution_count": 89,
   "metadata": {},
   "outputs": [],
   "source": [
    "if activity_split: # TODO: DO\n",
    "    # Sanity check. For each participant print the length of the data (last row's 'Time[s]' value is the length of the data in seconds)\n",
    "    # Minutes of each\n",
    "    for i in range(len(merged_dataset)):\n",
    "        time_s = merged_dataset[i].iloc[-1]['Time[s]']\n",
    "        time_m = time_s / 60\n",
    "        print(\"Participant {0} has {1} minutes of data\".format(i+1, time_m))\n"
   ]
  },
  {
   "cell_type": "markdown",
   "metadata": {},
   "source": [
    "## Model training"
   ]
  },
  {
   "cell_type": "markdown",
   "metadata": {},
   "source": [
    "### Train/test splitting"
   ]
  },
  {
   "cell_type": "code",
   "execution_count": 90,
   "metadata": {},
   "outputs": [
    {
     "data": {
      "text/plain": [
       "(      X    Y      Z  Magnitude\n",
       " 0  30.0  0.0  55.67      63.24\n",
       " 1  30.0  0.0  55.75      63.31\n",
       " 2  30.0  0.0  55.80      63.35\n",
       " 3  30.0  0.0  55.60      63.18\n",
       " 4  30.0  0.0  55.80      63.35,\n",
       " 0    1.31\n",
       " 1    1.31\n",
       " 2    1.52\n",
       " 3    1.63\n",
       " 4    1.56\n",
       " Name: MET, dtype: float64)"
      ]
     },
     "execution_count": 90,
     "metadata": {},
     "output_type": "execute_result"
    }
   ],
   "source": [
    "concatenated_data = pd.concat(merged_dataset, axis=0)\n",
    "# Drop nan values\n",
    "concatenated_data = concatenated_data.dropna()\n",
    "# Take X_data by taking every column EXCEPT \"MET\" and time columns\n",
    "X_data = concatenated_data.drop(columns=['MET', 'Time[s]', 'Delta_Time'])\n",
    "# Take Y_data by taking only the \"MET\" column\n",
    "Y_data = concatenated_data['MET']\n",
    "X_data[0:5], Y_data[0:5]"
   ]
  },
  {
   "cell_type": "code",
   "execution_count": 91,
   "metadata": {},
   "outputs": [],
   "source": [
    "X_train_data, X_test_data, Y_train_data, Y_test_data = train_test_split(X_data, Y_data, test_size=0.2, random_state=42)\n",
    "\n",
    "normalizer = MinMaxScaler()\n",
    "X_train_data = normalizer.fit_transform(X_train_data)\n",
    "X_test_data = normalizer.transform(X_test_data)"
   ]
  },
  {
   "cell_type": "markdown",
   "metadata": {},
   "source": [
    "### Linear regression"
   ]
  },
  {
   "cell_type": "code",
   "execution_count": 92,
   "metadata": {},
   "outputs": [
    {
     "name": "stdout",
     "output_type": "stream",
     "text": [
      "Linear Regression Mean Squared Error:  4.472147703836399\n"
     ]
    }
   ],
   "source": [
    "linear_regression = LinearRegression()\n",
    "linear_regression.fit(X_train_data, Y_train_data)\n",
    "Y_pred = linear_regression.predict(X_test_data)\n",
    "mse = mean_squared_error(Y_test_data, Y_pred)\n",
    "print(\"Linear Regression Mean Squared Error: \", mse)"
   ]
  },
  {
   "cell_type": "markdown",
   "metadata": {},
   "source": [
    "### XGBoost"
   ]
  },
  {
   "cell_type": "code",
   "execution_count": 93,
   "metadata": {},
   "outputs": [
    {
     "name": "stdout",
     "output_type": "stream",
     "text": [
      "XGBoost Mean Squared Error:  1.8585419909050513\n"
     ]
    }
   ],
   "source": [
    "model = XGBRegressor()\n",
    "model.fit(X_train_data, Y_train_data)\n",
    "Y_pred = model.predict(X_test_data)\n",
    "mse = mean_squared_error(Y_test_data, Y_pred)\n",
    "print(\"XGBoost Mean Squared Error: \", mse)"
   ]
  }
 ],
 "metadata": {
  "kernelspec": {
   "display_name": "AC",
   "language": "python",
   "name": "python3"
  },
  "language_info": {
   "codemirror_mode": {
    "name": "ipython",
    "version": 3
   },
   "file_extension": ".py",
   "mimetype": "text/x-python",
   "name": "python",
   "nbconvert_exporter": "python",
   "pygments_lexer": "ipython3",
   "version": "3.10.4"
  }
 },
 "nbformat": 4,
 "nbformat_minor": 2
}
