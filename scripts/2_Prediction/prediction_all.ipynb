{
 "cells": [
  {
   "cell_type": "markdown",
   "metadata": {},
   "source": [
    "# Predict on all merged data"
   ]
  },
  {
   "cell_type": "code",
   "execution_count": 1,
   "metadata": {},
   "outputs": [
    {
     "name": "stderr",
     "output_type": "stream",
     "text": [
      "/home/cernerrood246/anaconda3/envs/DM_3.9/lib/python3.9/site-packages/dask/dataframe/__init__.py:31: FutureWarning: \n",
      "Dask dataframe query planning is disabled because dask-expr is not installed.\n",
      "\n",
      "You can install it with `pip install dask[dataframe]` or `conda install dask`.\n",
      "This will raise in a future version.\n",
      "\n",
      "  warnings.warn(msg, FutureWarning)\n",
      "/home/cernerrood246/anaconda3/envs/DM_3.9/lib/python3.9/site-packages/tpot/builtins/__init__.py:36: UserWarning: Warning: optional dependency `torch` is not available. - skipping import of NN models.\n",
      "  warnings.warn(\"Warning: optional dependency `torch` is not available. - skipping import of NN models.\")\n"
     ]
    }
   ],
   "source": [
    "import pandas as pd\n",
    "import os \n",
    "\n",
    "from sklearn.model_selection import train_test_split\n",
    "from sklearn.preprocessing import MinMaxScaler\n",
    "from sklearn.linear_model import LinearRegression\n",
    "from sklearn.svm import SVR\n",
    "from lightgbm import LGBMRegressor\n",
    "from catboost import CatBoostRegressor\n",
    "from xgboost import XGBRegressor\n",
    "from sklearn.metrics import mean_squared_error\n",
    "import autosklearn.regression\n",
    "from tpot import TPOTRegressor\n",
    "\n",
    "os.chdir(\"/home/cernerrood246/University/DataMining\")\n",
    "\n",
    "#Relevant Models: LR, SVM, LightGBM, CatBoost, XGBoost "
   ]
  },
  {
   "cell_type": "code",
   "execution_count": 2,
   "metadata": {},
   "outputs": [
    {
     "data": {
      "text/html": [
       "<div>\n",
       "<style scoped>\n",
       "    .dataframe tbody tr th:only-of-type {\n",
       "        vertical-align: middle;\n",
       "    }\n",
       "\n",
       "    .dataframe tbody tr th {\n",
       "        vertical-align: top;\n",
       "    }\n",
       "\n",
       "    .dataframe thead th {\n",
       "        text-align: right;\n",
       "    }\n",
       "</style>\n",
       "<table border=\"1\" class=\"dataframe\">\n",
       "  <thead>\n",
       "    <tr style=\"text-align: right;\">\n",
       "      <th></th>\n",
       "      <th>Time[s]</th>\n",
       "      <th>Delta_Time</th>\n",
       "      <th>MET</th>\n",
       "      <th>value__bpm</th>\n",
       "      <th>value__confidence</th>\n",
       "      <th>X</th>\n",
       "      <th>Y</th>\n",
       "      <th>Z</th>\n",
       "      <th>Magnitude</th>\n",
       "    </tr>\n",
       "    <tr>\n",
       "      <th>Time</th>\n",
       "      <th></th>\n",
       "      <th></th>\n",
       "      <th></th>\n",
       "      <th></th>\n",
       "      <th></th>\n",
       "      <th></th>\n",
       "      <th></th>\n",
       "      <th></th>\n",
       "      <th></th>\n",
       "    </tr>\n",
       "  </thead>\n",
       "  <tbody>\n",
       "    <tr>\n",
       "      <th>2021-12-03 16:58:51</th>\n",
       "      <td>1.0</td>\n",
       "      <td>0 days 00:00:00</td>\n",
       "      <td>1.310987</td>\n",
       "      <td>91.0</td>\n",
       "      <td>1.0</td>\n",
       "      <td>30.0</td>\n",
       "      <td>0.0</td>\n",
       "      <td>55.666667</td>\n",
       "      <td>63.235890</td>\n",
       "    </tr>\n",
       "    <tr>\n",
       "      <th>2021-12-03 16:58:52</th>\n",
       "      <td>2.0</td>\n",
       "      <td>0 days 00:00:01</td>\n",
       "      <td>1.310172</td>\n",
       "      <td>91.0</td>\n",
       "      <td>1.0</td>\n",
       "      <td>30.0</td>\n",
       "      <td>0.0</td>\n",
       "      <td>55.750000</td>\n",
       "      <td>63.309261</td>\n",
       "    </tr>\n",
       "    <tr>\n",
       "      <th>2021-12-03 16:58:53</th>\n",
       "      <td>3.0</td>\n",
       "      <td>0 days 00:00:02</td>\n",
       "      <td>1.522019</td>\n",
       "      <td>91.0</td>\n",
       "      <td>1.0</td>\n",
       "      <td>30.0</td>\n",
       "      <td>0.0</td>\n",
       "      <td>55.800000</td>\n",
       "      <td>63.353295</td>\n",
       "    </tr>\n",
       "    <tr>\n",
       "      <th>2021-12-03 16:58:54</th>\n",
       "      <td>4.0</td>\n",
       "      <td>0 days 00:00:03</td>\n",
       "      <td>1.627943</td>\n",
       "      <td>91.0</td>\n",
       "      <td>1.0</td>\n",
       "      <td>30.0</td>\n",
       "      <td>0.0</td>\n",
       "      <td>55.600000</td>\n",
       "      <td>63.177211</td>\n",
       "    </tr>\n",
       "    <tr>\n",
       "      <th>2021-12-03 16:58:55</th>\n",
       "      <td>5.0</td>\n",
       "      <td>0 days 00:00:04</td>\n",
       "      <td>1.563248</td>\n",
       "      <td>88.0</td>\n",
       "      <td>1.0</td>\n",
       "      <td>30.0</td>\n",
       "      <td>0.0</td>\n",
       "      <td>55.800000</td>\n",
       "      <td>63.353295</td>\n",
       "    </tr>\n",
       "    <tr>\n",
       "      <th>...</th>\n",
       "      <td>...</td>\n",
       "      <td>...</td>\n",
       "      <td>...</td>\n",
       "      <td>...</td>\n",
       "      <td>...</td>\n",
       "      <td>...</td>\n",
       "      <td>...</td>\n",
       "      <td>...</td>\n",
       "      <td>...</td>\n",
       "    </tr>\n",
       "    <tr>\n",
       "      <th>2021-12-03 17:28:48</th>\n",
       "      <td>1798.0</td>\n",
       "      <td>0 days 00:29:57</td>\n",
       "      <td>5.323530</td>\n",
       "      <td>139.0</td>\n",
       "      <td>1.0</td>\n",
       "      <td>20.2</td>\n",
       "      <td>-49.4</td>\n",
       "      <td>36.000000</td>\n",
       "      <td>64.377015</td>\n",
       "    </tr>\n",
       "    <tr>\n",
       "      <th>2021-12-03 17:28:49</th>\n",
       "      <td>1799.0</td>\n",
       "      <td>0 days 00:29:58</td>\n",
       "      <td>5.110387</td>\n",
       "      <td>139.0</td>\n",
       "      <td>1.0</td>\n",
       "      <td>18.0</td>\n",
       "      <td>-50.2</td>\n",
       "      <td>33.800000</td>\n",
       "      <td>63.138578</td>\n",
       "    </tr>\n",
       "    <tr>\n",
       "      <th>2021-12-03 17:28:50</th>\n",
       "      <td>1800.0</td>\n",
       "      <td>0 days 00:29:59</td>\n",
       "      <td>4.461832</td>\n",
       "      <td>142.0</td>\n",
       "      <td>2.0</td>\n",
       "      <td>17.8</td>\n",
       "      <td>-50.2</td>\n",
       "      <td>34.200000</td>\n",
       "      <td>63.297077</td>\n",
       "    </tr>\n",
       "    <tr>\n",
       "      <th>2021-12-03 17:28:51</th>\n",
       "      <td>1801.0</td>\n",
       "      <td>0 days 00:30:00</td>\n",
       "      <td>4.118857</td>\n",
       "      <td>142.0</td>\n",
       "      <td>2.0</td>\n",
       "      <td>15.2</td>\n",
       "      <td>-49.4</td>\n",
       "      <td>36.200000</td>\n",
       "      <td>63.101822</td>\n",
       "    </tr>\n",
       "    <tr>\n",
       "      <th>2021-12-03 17:28:52</th>\n",
       "      <td>1802.0</td>\n",
       "      <td>0 days 00:30:01</td>\n",
       "      <td>4.426286</td>\n",
       "      <td>142.0</td>\n",
       "      <td>2.0</td>\n",
       "      <td>12.8</td>\n",
       "      <td>-50.4</td>\n",
       "      <td>34.400000</td>\n",
       "      <td>62.348697</td>\n",
       "    </tr>\n",
       "  </tbody>\n",
       "</table>\n",
       "<p>1802 rows × 9 columns</p>\n",
       "</div>"
      ],
      "text/plain": [
       "                     Time[s]      Delta_Time       MET  value__bpm  \\\n",
       "Time                                                                 \n",
       "2021-12-03 16:58:51      1.0 0 days 00:00:00  1.310987        91.0   \n",
       "2021-12-03 16:58:52      2.0 0 days 00:00:01  1.310172        91.0   \n",
       "2021-12-03 16:58:53      3.0 0 days 00:00:02  1.522019        91.0   \n",
       "2021-12-03 16:58:54      4.0 0 days 00:00:03  1.627943        91.0   \n",
       "2021-12-03 16:58:55      5.0 0 days 00:00:04  1.563248        88.0   \n",
       "...                      ...             ...       ...         ...   \n",
       "2021-12-03 17:28:48   1798.0 0 days 00:29:57  5.323530       139.0   \n",
       "2021-12-03 17:28:49   1799.0 0 days 00:29:58  5.110387       139.0   \n",
       "2021-12-03 17:28:50   1800.0 0 days 00:29:59  4.461832       142.0   \n",
       "2021-12-03 17:28:51   1801.0 0 days 00:30:00  4.118857       142.0   \n",
       "2021-12-03 17:28:52   1802.0 0 days 00:30:01  4.426286       142.0   \n",
       "\n",
       "                     value__confidence     X     Y          Z  Magnitude  \n",
       "Time                                                                      \n",
       "2021-12-03 16:58:51                1.0  30.0   0.0  55.666667  63.235890  \n",
       "2021-12-03 16:58:52                1.0  30.0   0.0  55.750000  63.309261  \n",
       "2021-12-03 16:58:53                1.0  30.0   0.0  55.800000  63.353295  \n",
       "2021-12-03 16:58:54                1.0  30.0   0.0  55.600000  63.177211  \n",
       "2021-12-03 16:58:55                1.0  30.0   0.0  55.800000  63.353295  \n",
       "...                                ...   ...   ...        ...        ...  \n",
       "2021-12-03 17:28:48                1.0  20.2 -49.4  36.000000  64.377015  \n",
       "2021-12-03 17:28:49                1.0  18.0 -50.2  33.800000  63.138578  \n",
       "2021-12-03 17:28:50                2.0  17.8 -50.2  34.200000  63.297077  \n",
       "2021-12-03 17:28:51                2.0  15.2 -49.4  36.200000  63.101822  \n",
       "2021-12-03 17:28:52                2.0  12.8 -50.4  34.400000  62.348697  \n",
       "\n",
       "[1802 rows x 9 columns]"
      ]
     },
     "execution_count": 2,
     "metadata": {},
     "output_type": "execute_result"
    }
   ],
   "source": [
    "participants_list = ['P1', 'P2', 'P3', 'P4', 'P5', 'P6', 'P7', 'P8', 'P9', 'P10', 'P11', 'P12', 'P13', 'P14', 'P15', 'P16', 'P17']\n",
    "Merged_all_list = [pd.read_pickle(f\"merged_dataset/{participant}/ALL.pkl\") for participant in participants_list]\n",
    "Merged_all_list[0]"
   ]
  },
  {
   "cell_type": "markdown",
   "metadata": {},
   "source": [
    "## Add Features\n",
    "\n",
    "Possible: \n",
    "-Time[s]\n",
    "-Lag feature for every value\n",
    "-activity\n",
    "-demographics \n",
    "\n",
    "Timeseries prediction \n",
    "-classify activity?"
   ]
  },
  {
   "cell_type": "code",
   "execution_count": null,
   "metadata": {},
   "outputs": [],
   "source": []
  },
  {
   "cell_type": "markdown",
   "metadata": {},
   "source": [
    "## All Data without timestamp"
   ]
  },
  {
   "cell_type": "code",
   "execution_count": 3,
   "metadata": {},
   "outputs": [],
   "source": [
    "all_merged_df = pd.concat(Merged_all_list, axis=0)\n",
    "all_merged_df = all_merged_df.dropna() # drops roughly 6k atm\n"
   ]
  },
  {
   "cell_type": "code",
   "execution_count": 4,
   "metadata": {},
   "outputs": [],
   "source": [
    "X = all_merged_df[[\"value__bpm\",\"value__confidence\", \"X\", \"Y\", \"Z\", \"Magnitude\"]].to_numpy()\n",
    "y = all_merged_df[\"MET\"].to_numpy()"
   ]
  },
  {
   "cell_type": "code",
   "execution_count": 5,
   "metadata": {},
   "outputs": [],
   "source": [
    "\n",
    "\n",
    "# Perform test-train split\n",
    "X_train, X_test, y_train, y_test = train_test_split(X, y, test_size=0.2, random_state=42)\n",
    "\n",
    "# Normalize the data with MinMaxScaler\n",
    "scaler = MinMaxScaler()\n",
    "X_train_scaled = scaler.fit_transform(X_train)\n",
    "X_test_scaled = scaler.transform(X_test)\n"
   ]
  },
  {
   "cell_type": "code",
   "execution_count": 6,
   "metadata": {},
   "outputs": [
    {
     "name": "stdout",
     "output_type": "stream",
     "text": [
      "Linear Regression Mean Squared Error: 2.3550734383594145\n",
      "Support Vector Machine Mean Squared Error: 1.6395782911619274\n",
      "LightGBM Mean Squared Error: 0.9056028958261498\n",
      "CatBoost Mean Squared Error: 0.7788736024328365\n",
      "XGBoost Mean Squared Error: 0.7454982801858212\n"
     ]
    }
   ],
   "source": [
    "# List of models to evaluate, set LGMB to not output info\n",
    "\n",
    "models = [LinearRegression(), SVR(), LGBMRegressor(verbose=-1), CatBoostRegressor(verbose=0), XGBRegressor()]\n",
    "names = [\"Linear Regression\", \"Support Vector Machine\", \"LightGBM\", \"CatBoost\", \"XGBoost\"]\n",
    "\n",
    "# Perform operations for each model\n",
    "for model,name in zip(models, names):\n",
    "    model.fit(X_train_scaled, y_train)\n",
    "    \n",
    "    # Predict on test data\n",
    "    y_pred = model.predict(X_test_scaled)\n",
    "    \n",
    "    # Calculate mean squared error\n",
    "    mse = mean_squared_error(y_test, y_pred)\n",
    "    print(f\"{name} Mean Squared Error: {mse}\")\n"
   ]
  },
  {
   "cell_type": "code",
   "execution_count": 9,
   "metadata": {},
   "outputs": [
    {
     "name": "stdout",
     "output_type": "stream",
     "text": [
      "[WARNING] [2024-03-18 14:42:57,778:Client-EnsembleBuilder] No runs were available to build an ensemble from\n",
      "[WARNING] [2024-03-18 14:43:02,851:Client-EnsembleBuilder] No runs were available to build an ensemble from\n",
      "[WARNING] [2024-03-18 14:43:05,078:Client-EnsembleBuilder] No runs were available to build an ensemble from\n",
      "[WARNING] [2024-03-18 14:43:07,803:Client-EnsembleBuilder] No runs were available to build an ensemble from\n",
      "[WARNING] [2024-03-18 14:43:09,709:Client-EnsembleBuilder] No runs were available to build an ensemble from\n",
      "[WARNING] [2024-03-18 14:43:11,531:Client-EnsembleBuilder] No runs were available to build an ensemble from\n",
      "[WARNING] [2024-03-18 14:43:13,440:Client-EnsembleBuilder] No runs were available to build an ensemble from\n",
      "[WARNING] [2024-03-18 14:43:15,517:Client-EnsembleBuilder] No runs were available to build an ensemble from\n",
      "[WARNING] [2024-03-18 14:43:17,369:Client-EnsembleBuilder] No runs were available to build an ensemble from\n",
      "[WARNING] [2024-03-18 14:43:19,514:Client-EnsembleBuilder] No runs were available to build an ensemble from\n",
      "[WARNING] [2024-03-18 14:43:21,428:Client-EnsembleBuilder] No runs were available to build an ensemble from\n",
      "[WARNING] [2024-03-18 14:43:23,234:Client-EnsembleBuilder] No runs were available to build an ensemble from\n",
      "[WARNING] [2024-03-18 14:43:25,160:Client-EnsembleBuilder] No runs were available to build an ensemble from\n",
      "[WARNING] [2024-03-18 14:43:27,387:Client-EnsembleBuilder] No runs were available to build an ensemble from\n",
      "[WARNING] [2024-03-18 14:43:29,235:Client-EnsembleBuilder] No runs were available to build an ensemble from\n",
      "[WARNING] [2024-03-18 14:43:31,117:Client-EnsembleBuilder] No runs were available to build an ensemble from\n",
      "[WARNING] [2024-03-18 14:43:33,124:Client-EnsembleBuilder] No runs were available to build an ensemble from\n",
      "[WARNING] [2024-03-18 14:43:35,578:Client-EnsembleBuilder] No runs were available to build an ensemble from\n",
      "[WARNING] [2024-03-18 14:43:38,401:Client-EnsembleBuilder] No runs were available to build an ensemble from\n",
      "[WARNING] [2024-03-18 14:43:41,829:Client-EnsembleBuilder] No runs were available to build an ensemble from\n",
      "[WARNING] [2024-03-18 14:43:44,436:Client-EnsembleBuilder] No runs were available to build an ensemble from\n",
      "[WARNING] [2024-03-18 14:43:46,456:Client-EnsembleBuilder] No runs were available to build an ensemble from\n",
      "[WARNING] [2024-03-18 14:43:48,507:Client-EnsembleBuilder] No runs were available to build an ensemble from\n",
      "[WARNING] [2024-03-18 14:43:51,339:Client-EnsembleBuilder] No runs were available to build an ensemble from\n",
      "[WARNING] [2024-03-18 14:43:53,663:Client-EnsembleBuilder] No runs were available to build an ensemble from\n",
      "[WARNING] [2024-03-18 14:43:55,678:Client-EnsembleBuilder] No runs were available to build an ensemble from\n",
      "[WARNING] [2024-03-18 14:44:23,360:Client-EnsembleBuilder] No runs were available to build an ensemble from\n",
      "AutoSklearn Mean Squared Error: 5.15659864263747\n"
     ]
    }
   ],
   "source": [
    "automl = autosklearn.regression.AutoSklearnRegressor(\n",
    "    time_left_for_this_task=120,\n",
    "    per_run_time_limit=30,\n",
    ")\n",
    "# Fit the AutoSklearnRegressor\n",
    "automl.fit(X_train_scaled, y_train)\n",
    "\n",
    "# Get the predicted values\n",
    "y_pred = automl.predict(X_test_scaled)\n",
    "\n",
    "# Calculate the mean squared error\n",
    "mse = mean_squared_error(y_test, y_pred)\n",
    "print(f\"AutoSklearn Mean Squared Error: {mse}\")"
   ]
  },
  {
   "cell_type": "code",
   "execution_count": 10,
   "metadata": {},
   "outputs": [
    {
     "name": "stdout",
     "output_type": "stream",
     "text": [
      "          rank  ensemble_weight  type  cost duration\n",
      "model_id                                            \n",
      "1            1              1.0  <NA>  <NA>     <NA>\n"
     ]
    }
   ],
   "source": [
    "print(automl.leaderboard())\n"
   ]
  },
  {
   "cell_type": "code",
   "execution_count": 12,
   "metadata": {},
   "outputs": [
    {
     "name": "stdout",
     "output_type": "stream",
     "text": [
      "                                                                            \n",
      "Generation 1 - Current best internal CV score: -0.7812734777455226\n",
      "                                                                            \n",
      "Generation 2 - Current best internal CV score: -0.7812734777455226\n",
      "                                                                            \n",
      "Generation 3 - Current best internal CV score: -0.7099590661212408\n",
      "                                                                            \n",
      "Best pipeline: RandomForestRegressor(input_matrix, bootstrap=False, max_features=0.35000000000000003, min_samples_leaf=7, min_samples_split=13, n_estimators=100)\n",
      "TPOT Mean Squared Error: 0.786400666250984\n"
     ]
    }
   ],
   "source": [
    "# Define the TPOTRegressor\n",
    "tpot = TPOTRegressor(generations=3, population_size=10, verbosity=2, random_state=42)\n",
    "\n",
    "# Fit the TPOTRegressor\n",
    "tpot.fit(X_train_scaled, y_train)\n",
    "\n",
    "# Get the predicted values\n",
    "y_pred = tpot.predict(X_test_scaled)\n",
    "\n",
    "# Calculate the mean squared error\n",
    "mse = mean_squared_error(y_test, y_pred)\n",
    "print(f\"TPOT Mean Squared Error: {mse}\")\n"
   ]
  }
 ],
 "metadata": {
  "kernelspec": {
   "display_name": "DM",
   "language": "python",
   "name": "python3"
  },
  "language_info": {
   "codemirror_mode": {
    "name": "ipython",
    "version": 3
   },
   "file_extension": ".py",
   "mimetype": "text/x-python",
   "name": "python",
   "nbconvert_exporter": "python",
   "pygments_lexer": "ipython3",
   "version": "3.9.18"
  }
 },
 "nbformat": 4,
 "nbformat_minor": 2
}
